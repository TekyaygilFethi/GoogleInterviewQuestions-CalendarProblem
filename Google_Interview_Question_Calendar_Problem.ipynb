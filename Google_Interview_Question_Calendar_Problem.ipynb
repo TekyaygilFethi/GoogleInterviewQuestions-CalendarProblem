{
  "nbformat": 4,
  "nbformat_minor": 0,
  "metadata": {
    "colab": {
      "name": "Google Interview Question Calendar Problem.ipynb",
      "provenance": [],
      "collapsed_sections": [],
      "authorship_tag": "ABX9TyML5DFq+09WjDLB+mab3WbN",
      "include_colab_link": true
    },
    "kernelspec": {
      "name": "python3",
      "display_name": "Python 3"
    }
  },
  "cells": [
    {
      "cell_type": "markdown",
      "metadata": {
        "id": "view-in-github",
        "colab_type": "text"
      },
      "source": [
        "<a href=\"https://colab.research.google.com/github/TekyaygilFethi/GoogleInterviewQuestions-CalendarProblem/blob/main/Google_Interview_Question_Calendar_Problem.ipynb\" target=\"_parent\"><img src=\"https://colab.research.google.com/assets/colab-badge.svg\" alt=\"Open In Colab\"/></a>"
      ]
    },
    {
      "cell_type": "code",
      "metadata": {
        "id": "Ue6Q2-X7wR5-"
      },
      "source": [
        "# This question is taken from https://www.youtube.com/watch?v=3Q_oYDQ2whs\n",
        "\n",
        "\"\"\"\n",
        "Assume two person have their own calendar. Our goal is to determine that \n",
        "the times they could have a meeting with a given duration and given daily bounds for \n",
        "each person.\n",
        "\"\"\""
      ],
      "execution_count": null,
      "outputs": []
    },
    {
      "cell_type": "code",
      "metadata": {
        "id": "vWd6i8l0M9k_"
      },
      "source": [
        "# Assume this is our input\n",
        "input={\n",
        "    \"Person1Calendar\":[[\"09:00\",\"10:00\"],[\"12:00\",\"13:00\"],[\"13:00\",\"13:15\"],[\"16:00\",\"18:00\"]],\n",
        "    \"Person1DailyBounds\":[\"09:00\",\"20:00\"],\n",
        "    \"Person2Calendar\":[[\"10:10\",\"11:30\"],[\"12:30\",\"14:30\"],[\"14:30\",\"15:00\"],[\"15:00\",\"15:20\"],[\"15:40\",\"16:50\"],[\"16:00\",\"17:00\"]],\n",
        "    \"Person2DailyBounds\":[\"10:00\",\"18:30\"],\n",
        "    \"MeetingDuration\":15\n",
        "}"
      ],
      "execution_count": null,
      "outputs": []
    },
    {
      "cell_type": "code",
      "metadata": {
        "id": "73F28lwMOPOR"
      },
      "source": [
        "# We merge our calendars into single list\n",
        "big_list = input[\"Person1Calendar\"]\n",
        "big_list.extend(input[\"Person2Calendar\"])"
      ],
      "execution_count": null,
      "outputs": []
    },
    {
      "cell_type": "code",
      "metadata": {
        "id": "H2aJh8rcSrHj"
      },
      "source": [
        "# We get daily bounds for each person, zip them and find max of the start times and\n",
        "# min of the end times in order to get the time bounds possible for meeting times\n",
        "\n",
        "daily_bound_list=input[\"Person1DailyBounds\"]\n",
        "daily_bound_list = list(zip(daily_bound_list,input[\"Person2DailyBounds\"]))\n",
        "\n",
        "start_time = max(list(daily_bound_list)[0])\n",
        "end_time = min(list(daily_bound_list)[1])"
      ],
      "execution_count": null,
      "outputs": []
    },
    {
      "cell_type": "code",
      "metadata": {
        "id": "-sHjhz4AUU9n"
      },
      "source": [
        "# We get our given duration\n",
        "duration = input[\"MeetingDuration\"]"
      ],
      "execution_count": null,
      "outputs": []
    },
    {
      "cell_type": "code",
      "metadata": {
        "id": "PYHaZ1NpSCyi"
      },
      "source": [
        "# We are sorting our merged list according to their start times\n",
        "import itertools\n",
        "big_list.sort()\n",
        "big_list = list(big_list for big_list,_ in itertools.groupby(big_list))"
      ],
      "execution_count": null,
      "outputs": []
    },
    {
      "cell_type": "code",
      "metadata": {
        "id": "TX40uxypw9Qo"
      },
      "source": [
        "# We parse the start and end times to get minutes for comparison and difference betwwen them\n",
        "# in terms of minutes\n",
        "def GetMinutesFromTimes(time1,time2):\n",
        "  h1, m1=time1.split(\":\")\n",
        "  h2, m2=time2.split(\":\")\n",
        "\n",
        "  t1=int(h1)*60+int(m1)\n",
        "  t2=int(h2)*60+int(m2)\n",
        "\n",
        "  return (t1,t2)"
      ],
      "execution_count": null,
      "outputs": []
    },
    {
      "cell_type": "code",
      "metadata": {
        "id": "v_GODWphVXzK"
      },
      "source": [
        "# Compare times to determine which is earlier or not\n",
        "def CompareTimes(time1,time2):\n",
        "  t1, t2 = GetMinutesFromTimes(time1,time2)\n",
        "\n",
        "  if t1>t2:\n",
        "    return 1\n",
        "  elif t1<t2:\n",
        "    return -1\n",
        "  else:\n",
        "    return 0"
      ],
      "execution_count": null,
      "outputs": []
    },
    {
      "cell_type": "code",
      "metadata": {
        "id": "54qvNitow4yK"
      },
      "source": [
        "# Check for the time differences for two given time if they have the given duration or \n",
        "# more minutes between them\n",
        "def IsTimeDifferenceAppropriate(time1,time2,duration):\n",
        "  t1, t2 = GetMinutesFromTimes(time1,time2)\n",
        "\n",
        "  return t2-t1>=duration"
      ],
      "execution_count": null,
      "outputs": []
    },
    {
      "cell_type": "code",
      "metadata": {
        "id": "fQz33Gs9VxJy"
      },
      "source": [
        "# Set the start time bound if necessary, \n",
        "# if there is a time interval earlier than start time bound delete it\n",
        "def CompareStartTimeOfMeetingsForAvailability(temp_list):\n",
        "  index = 0\n",
        "  while index < len(temp_list):\n",
        "    if CompareTimes(start_time,temp_list[index][0])>0:\n",
        "      if CompareTimes(start_time,temp_list[index][1])<0:\n",
        "        temp_list[index][0]=start_time\n",
        "      else:\n",
        "        temp_list.pop(index)\n",
        "        index-=1\n",
        "      index+=1\n",
        "    else:\n",
        "      break\n",
        "\n",
        "# Set the end time bound if necessary, \n",
        "# if there is a time interval later than end time bound delete it\n",
        "def CompareEndTimeOfMeetingsForAvailability(temp_list):\n",
        "  index=len(temp_list)-1\n",
        "\n",
        "  while index >= 0:\n",
        "    if CompareTimes(temp_list[index][1],end_time)>0:\n",
        "      if CompareTimes(temp_list[index][0],end_time)>=0:\n",
        "        temp_list.pop(index)\n",
        "        \n",
        "      else:\n",
        "        temp_list[index][1]=end_time\n",
        "\n",
        "      index-=1\n",
        "    else:\n",
        "      break\n",
        "\n",
        "# Merge the meeting times if their time interval is between each other and make new internal\n",
        "# to contain the earliest time for start and latest time for end time\n",
        "def CompareTimesForCommonMeetingTimes(temp_list):\n",
        "  index = 0\n",
        "  while index < len(temp_list)-1:\n",
        "    if CompareTimes(temp_list[index][1], temp_list[index+1][0])>=0:\n",
        "      if CompareTimes(temp_list[index][1], temp_list[index+1][1])<0:\n",
        "        temp_list[index][1]=temp_list[index+1][1]\n",
        "\n",
        "      temp_list.pop(index+1)\n",
        "      index-=1\n",
        "    \n",
        "    index+=1\n",
        "\n",
        "# Our main function. It computes the availble time schedule\n",
        "def ScheduleAvailability(liste):\n",
        "  available_time_blocks=[]\n",
        "  temp_list=liste\n",
        "\n",
        "  CompareStartTimeOfMeetingsForAvailability(temp_list)\n",
        "\n",
        "  CompareEndTimeOfMeetingsForAvailability(temp_list)\n",
        "\n",
        "  CompareTimesForCommonMeetingTimes(temp_list)\n",
        "  \n",
        "  # If there is a space between the earliest time interval of the merged calendar list \n",
        "  # and earliest time bound of the day then check their time difference and if it's equal \n",
        "  # or greater than the given meeting duration add the new time interval into available_time_blocks list\n",
        "  if CompareTimes(temp_list[0][0],start_time)==1 and IsTimeDifferenceAppropriate(temp_list[0][0],start_time,duration):\n",
        "    available_time_blocks.append([start_time,temp_list[0][0]])\n",
        "\n",
        "  # Fill the blanks between the merged calendar list with checking if they have appropriate\n",
        "  # duration. If so, add the new time interval into the available_time_blocks list\n",
        "  index = 0\n",
        "  while index < len(temp_list)-1:\n",
        "    if IsTimeDifferenceAppropriate(temp_list[index][1],temp_list[index+1][0],duration):\n",
        "      available_time_blocks.append([temp_list[index][1],temp_list[index+1][0]])\n",
        "    \n",
        "    index+=1\n",
        "\n",
        "\n",
        "  # If there is a space between the latest time interval of the merged calendar list \n",
        "  # and earliest time bound of the day then check their time difference and if it's equal \n",
        "  # or greater than the given meeting duration add the new time interval into available_time_blocks list\n",
        "  if CompareTimes(temp_list[-1][1],end_time)==-1 and IsTimeDifferenceAppropriate(temp_list[-1][1],end_time,duration):\n",
        "    available_time_blocks.append([temp_list[-1][1],end_time])\n",
        "  \n",
        "  return available_time_blocks\n",
        "    \n",
        "\n",
        "available_time_blocks = ScheduleAvailability(big_list[:])\n",
        "\n",
        "print(available_time_blocks)"
      ],
      "execution_count": null,
      "outputs": []
    }
  ]
}